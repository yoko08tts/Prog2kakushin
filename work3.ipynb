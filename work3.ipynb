{
  "nbformat": 4,
  "nbformat_minor": 0,
  "metadata": {
    "colab": {
      "provenance": [],
      "authorship_tag": "ABX9TyPdzy92+atDcdYq6iKCL5fG",
      "include_colab_link": true
    },
    "kernelspec": {
      "name": "python3",
      "display_name": "Python 3"
    },
    "language_info": {
      "name": "python"
    }
  },
  "cells": [
    {
      "cell_type": "markdown",
      "metadata": {
        "id": "view-in-github",
        "colab_type": "text"
      },
      "source": [
        "<a href=\"https://colab.research.google.com/github/yoko08tts/Prog2kakushin/blob/main/work3.ipynb\" target=\"_parent\"><img src=\"https://colab.research.google.com/assets/colab-badge.svg\" alt=\"Open In Colab\"/></a>"
      ]
    },
    {
      "cell_type": "markdown",
      "source": [
        "#モザイクアートメーカー"
      ],
      "metadata": {
        "id": "AnzkPqMIGm30"
      }
    },
    {
      "cell_type": "code",
      "execution_count": 58,
      "metadata": {
        "id": "wJeuR4rPJS8p",
        "colab": {
          "base_uri": "https://localhost:8080/",
          "height": 128
        },
        "outputId": "c95de1f7-9fc9-4d29-b3bf-e2487fbeaedf"
      },
      "outputs": [
        {
          "output_type": "error",
          "ename": "SystemExit",
          "evalue": "エラー: モザイクアートにする画像ファイルを開けませんでした",
          "traceback": [
            "An exception has occurred, use %tb to see the full traceback.\n",
            "\u001b[0;31mSystemExit\u001b[0m\u001b[0;31m:\u001b[0m エラー: モザイクアートにする画像ファイルを開けませんでした\n"
          ]
        }
      ],
      "source": [
        "import numpy as np\n",
        "import sys, cv2, math, glob\n",
        "from google.colab.patches import cv2_imshow\n",
        "\n",
        "d = 4 #@param {type:'integer'}\n",
        "\n",
        "if d < 1:\n",
        "  sys.exit('dの値は自然数にしてください')\n",
        "\n",
        "file_path = '' #@param {type:'string'}\n",
        "\n",
        "original_img = cv2.imread(file_path)\n",
        "\n",
        "if original_img is None:\n",
        "  sys.exit('エラー: モザイクアートにする画像ファイルを開けませんでした')\n",
        "\n",
        "h = original_img.shape[0]\n",
        "w = original_img.shape[1]\n",
        "\n",
        "dh = math.ceil(h / d)\n",
        "dw = math.ceil(w / d)\n",
        "\n",
        "color = []\n",
        "for x in range(dh):\n",
        "  empty = []\n",
        "  color.append(empty)\n",
        "\n",
        "\n",
        "for i in range(dh):\n",
        "  for j in range(dw):\n",
        "    avg_r = 0\n",
        "    avg_g = 0\n",
        "    avg_b = 0\n",
        "    for iy in range(d*i, d*(i+1)):\n",
        "      if iy >= h:\n",
        "        break\n",
        "      for ix in range(d*j, d*(j+1)):\n",
        "        if ix >= w:\n",
        "          break\n",
        "        avg_b += original_img[iy,ix][0]\n",
        "        avg_g += original_img[iy,ix][1]\n",
        "        avg_r += original_img[iy,ix][2]\n",
        "    avg_b /= d**2\n",
        "    avg_g /= d**2\n",
        "    avg_r /= d**2\n",
        "    color[i].append([avg_b, avg_g, avg_r])\n",
        "\n",
        "folder_path = '' #@param {type:'string'}\n",
        "file_list = glob.glob(folder_path + '/*')\n",
        "img_list = []\n",
        "color2 = []\n",
        "\n",
        "\n",
        "for f in file_list:\n",
        "  imgs = cv2.imread(f)\n",
        "\n",
        "  if imgs is None:\n",
        "    sys.exit('エラー: モザイクアートの素材となる画像ファイルを開けませんでした')\n",
        "\n",
        "  h2 = imgs.shape[0]\n",
        "  w2 = imgs.shape[1]\n",
        "\n",
        "  if h2 > w2:\n",
        "    imgs = imgs[(h-w)//2 : w , 0 : w]\n",
        "  elif h2 < w2:\n",
        "    imgs = imgs[0 : h , (w-h)//2: w]\n",
        "\n",
        "  imgs = cv2.resize(imgs, (d,d))\n",
        "\n",
        "  img_list.append(imgs)\n",
        "\n",
        "  avg_r = 0\n",
        "  avg_g = 0\n",
        "  avg_b = 0\n",
        "\n",
        "  for iy in range(d):\n",
        "    for ix in range(d):\n",
        "      avg_b += imgs[iy,ix][0]\n",
        "      avg_g += imgs[iy,ix][1]\n",
        "      avg_r += imgs[iy,ix][2]\n",
        "  avg_b /= d**2\n",
        "  avg_g /= d**2\n",
        "  avg_r /= d**2\n",
        "  color2.append([avg_b, avg_g, avg_r])\n",
        "\n",
        "img2 = np.zeros((d*dh,d*dw, 3), np.uint8)\n",
        "\n",
        "for i in range(dh):\n",
        "  for j in range(dw):\n",
        "    shikisa_list = []\n",
        "    for c in color2:\n",
        "      shikisa = (color[i][j][0] - c[0])**2 + (color[i][j][1] - c[1])**2 + (color[i][j][2] - c[2])\n",
        "      shikisa_list.append(shikisa)\n",
        "\n",
        "    x = shikisa_list.index(min(shikisa_list))\n",
        "    img2[d*i : d*i+d, d*j: d*j+d] = img_list[x]\n",
        "\n",
        "cv2_imshow(img2)"
      ]
    }
  ]
}