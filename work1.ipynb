{
  "nbformat": 4,
  "nbformat_minor": 0,
  "metadata": {
    "colab": {
      "provenance": [],
      "authorship_tag": "ABX9TyMc+s//1R56i+r7mQPUUcK2",
      "include_colab_link": true
    },
    "kernelspec": {
      "name": "python3",
      "display_name": "Python 3"
    },
    "language_info": {
      "name": "python"
    }
  },
  "cells": [
    {
      "cell_type": "markdown",
      "metadata": {
        "id": "view-in-github",
        "colab_type": "text"
      },
      "source": [
        "<a href=\"https://colab.research.google.com/github/yoko08tts/Prog2kakushin/blob/main/work1.ipynb\" target=\"_parent\"><img src=\"https://colab.research.google.com/assets/colab-badge.svg\" alt=\"Open In Colab\"/></a>"
      ]
    },
    {
      "cell_type": "code",
      "source": [
        "from google.colab import drive\n",
        "drive.mount('/content/drive')"
      ],
      "metadata": {
        "colab": {
          "base_uri": "https://localhost:8080/"
        },
        "id": "ipwpe5YW2R-C",
        "outputId": "cdab7905-8cc3-44e1-96bb-883478456882"
      },
      "execution_count": 7,
      "outputs": [
        {
          "output_type": "stream",
          "name": "stdout",
          "text": [
            "Mounted at /content/drive\n"
          ]
        }
      ]
    },
    {
      "cell_type": "code",
      "execution_count": null,
      "metadata": {
        "id": "yrtvI9QfJA07",
        "cellView": "form"
      },
      "outputs": [],
      "source": [
        "import pandas as pd\n",
        "import os\n",
        "import sys\n",
        "import datetime\n",
        "\n",
        "path = '/content/drive/MyDrive' #@param {type:'string'}\n",
        "file_name = 'ToDoリスト.csv' #@param {type:'string'}\n",
        "file_path = path + '/' + file_name\n",
        "\n",
        "purpose = '\\u5B8C\\u4E86' #@param ['表示', '追加', '完了'] {allow-input: false}\n",
        "date = \"2023-12-21\" #@param {type:'date'}\n",
        "to_do = \"\" #@param {type:'string'}\n",
        "\n",
        "dt = datetime.datetime.strptime(date, '%Y-%m-%d')\n",
        "today = datetime.date.today()\n",
        "today = datetime.date(2023,12,24)\n",
        "\n",
        "if purpose == '表示':\n",
        "  if os.path.exists(file_path):\n",
        "    df = pd.read_csv(file_path, index_col=0)\n",
        "    drop_index = df.index[df['Date'] < str(today)]\n",
        "    df = df.drop(drop_index)\n",
        "  else:\n",
        "    sys.exit(path + 'に' + '\"' + file_name + '\"' + 'が存在しません')\n",
        "\n",
        "elif purpose == '追加':\n",
        "  if dt.date() < today:\n",
        "    sys.exit('dateが今日よりも前の日なっています')\n",
        "\n",
        "  if os.path.exists(file_path):\n",
        "    df = pd.read_csv(file_path, index_col=0)\n",
        "    drop_index = df.index[df['Date'] < str(today)]\n",
        "    df = df.drop(drop_index)\n",
        "\n",
        "    new_df = pd.DataFrame({'Date': [date],'ToDo': [to_do]})\n",
        "    df = pd.concat([df, new_df], ignore_index = True)\n",
        "  else:\n",
        "    df = pd.DataFrame({'Date': [date],'ToDo': [to_do]})\n",
        "\n",
        "  df = df.sort_values('Date')\n",
        "\n",
        "elif purpose == '完了':\n",
        "  if os.path.exists(file_path):\n",
        "    df = pd.read_csv(file_path, index_col=0)\n",
        "    drop_index = df.index[df['Date'] < str(today)]\n",
        "    df = df.drop(drop_index)\n",
        "\n",
        "    drop_index = df.index[(df['Date'] == date) & (df['ToDo'] == to_do)]\n",
        "    df = df.drop(drop_index)\n",
        "\n",
        "  else:\n",
        "    sys.exit(path + 'に' + '\"' + file_name + '\"' + 'が存在しません')\n",
        "\n",
        "df.to_csv(file_path)\n",
        "\n",
        "print('今日は', today, 'です')\n",
        "df"
      ]
    }
  ]
}